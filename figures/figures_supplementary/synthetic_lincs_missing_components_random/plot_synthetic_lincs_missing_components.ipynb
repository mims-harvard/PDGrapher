{
 "cells": [
  {
   "cell_type": "code",
   "execution_count": 1,
   "metadata": {},
   "outputs": [],
   "source": [
    "import pandas as pd\n",
    "import seaborn as sns\n",
    "import matplotlib.pyplot as plt\n",
    "import os.path as osp\n",
    "from glob import glob\n",
    "import sys\n",
    "sys.path.append('../../')\n",
    "from constants import *\n",
    "import os\n",
    "import numpy as np\n",
    "from scipy import stats\n",
    "\n",
    "\n",
    "outdir = 'processed/'\n",
    "os.makedirs(outdir, exist_ok = True)"
   ]
  },
  {
   "cell_type": "code",
   "execution_count": 2,
   "metadata": {},
   "outputs": [],
   "source": [
    "performance = {}\n",
    "#PPI - chemical, random (within)\n",
    "base_path = '../../../results_metrics_aggregated_bme/perturbagen_pred'\n",
    "paths = glob(osp.join(base_path, 'v2/PDGrapher/chemical/random/MDAMB231_drugpred_within_best.csv'))\n",
    "\n",
    "for path in paths:\n",
    "    df = pd.read_csv(path)\n",
    "    df = df[df['Set'] == 'Test']\n",
    "    \n",
    "    # Process the new DataFrame to update the dictionary\n",
    "    method_name = '0'\n",
    "\n",
    "    # Populate the dictionary\n",
    "    for index, row in df.iterrows():\n",
    "        cell_line = row['Cellline']\n",
    "        metric = row['Metric']\n",
    "        if metric == 'ranking score':\n",
    "            metric = 'rankings'\n",
    "        if metric == 'ranking score - DCG':\n",
    "            metric = 'nDCG'        \n",
    "        \n",
    "        if cell_line not in performance:\n",
    "            performance[cell_line] = {}\n",
    "            \n",
    "        if metric not in performance[cell_line]:\n",
    "            performance[cell_line][metric] = {method_name: []}\n",
    "        \n",
    "        values = [row['Fold 1'], row['Fold 2'], row['Fold 3'], row['Fold 4'], row['Fold 5']]\n",
    "        performance[cell_line][metric][method_name] = values"
   ]
  },
  {
   "cell_type": "code",
   "execution_count": 3,
   "metadata": {},
   "outputs": [],
   "source": [
    "#Synthetic - missing components\n",
    "\n",
    "base_path = '../../../results_metrics_aggregated_bme/synthetic_data/v2/missing/random'\n",
    "paths = glob(osp.join(base_path, '*_drugpred_within_best_v2.csv'))\n",
    "\n",
    "for path in paths:\n",
    "    if float(path.split('/')[-1].split('_')[0]) >0.5 or float(path.split('/')[-1].split('_')[0]) <0.1:\n",
    "        continue\n",
    "    df = pd.read_csv(path)\n",
    "    df = df[df['Set'] == 'Test']\n",
    "    \n",
    "    # Process the new DataFrame to update the dictionary\n",
    "    method_name = path.split('/')[-1].split('_')[0]\n",
    "\n",
    "    # Populate the dictionary\n",
    "    for index, row in df.iterrows():\n",
    "        cell_line = 'MDAMB231'\n",
    "        metric = row['Metric']\n",
    "        if metric == 'ranking score':\n",
    "            metric = 'rankings'\n",
    "        if metric == 'ranking score - DCG':\n",
    "            metric = 'nDCG'          \n",
    "        \n",
    "        if cell_line not in performance:\n",
    "            performance[cell_line] = {}\n",
    "            \n",
    "        if metric not in performance[cell_line]:\n",
    "            performance[cell_line][metric] = {method_name: []}\n",
    "        \n",
    "        values = [row['Fold 1'], row['Fold 2'], row['Fold 3'], row['Fold 4'], row['Fold 5']]\n",
    "        performance[cell_line][metric][method_name] = values"
   ]
  },
  {
   "cell_type": "code",
   "execution_count": null,
   "metadata": {},
   "outputs": [],
   "source": []
  },
  {
   "cell_type": "code",
   "execution_count": 4,
   "metadata": {},
   "outputs": [
    {
     "data": {
      "text/plain": [
       "dict_keys(['recall@1', 'recall@10', 'recall@100', 'recall@1000', 'percentage of samples with partially accurate predictions', 'rankings', 'nDCG'])"
      ]
     },
     "execution_count": 4,
     "metadata": {},
     "output_type": "execute_result"
    }
   ],
   "source": [
    "performance['MDAMB231'].keys()"
   ]
  },
  {
   "cell_type": "code",
   "execution_count": 5,
   "metadata": {},
   "outputs": [],
   "source": [
    "\n",
    "# Only include the metrics of interest\n",
    "metrics_to_include = [\n",
    "    (\"percentage of samples with partially accurate predictions\", \"Accurately predicted samples (%)\", \"Panel A\"),\n",
    "    (\"nDCG\", \"nDCG\", 'Panel B')\n",
    "]\n",
    "\n",
    "# Prepare data for each sheet\n",
    "sheets = {}\n",
    "\n",
    "for item in metrics_to_include:\n",
    "    metric, metric_name, panel = item[0], item[1], item[2]\n",
    "    records = []\n",
    "    for cell_line in performance:\n",
    "        if metric not in performance[cell_line]:\n",
    "            continue\n",
    "        for model in performance[cell_line][metric]:\n",
    "            values = performance[cell_line][metric][model]\n",
    "            for split_index, value in enumerate(values, start=1):\n",
    "                records.append({\n",
    "                    \"Cell line\": cell_line,\n",
    "                    \"Fraction of random edges removed\": model,\n",
    "                    \"Cross-validation split\": split_index,\n",
    "                    metric_name: value\n",
    "                })\n",
    "    sheets[panel] = pd.DataFrame(records)\n",
    "\n",
    "\n",
    "\n",
    "\n",
    "\n",
    "\n",
    "# Save to Excel\n",
    "with pd.ExcelWriter(osp.join(outdir, \"PDGrapher_Supp_synthetic_missing_components_random.xlsx\")) as writer:\n",
    "    for panel, df in sheets.items():\n",
    "        df.to_excel(writer, sheet_name=panel, index=False)"
   ]
  },
  {
   "cell_type": "markdown",
   "metadata": {},
   "source": [
    "## Percentage of partially accurate predictions"
   ]
  },
  {
   "cell_type": "code",
   "execution_count": 6,
   "metadata": {},
   "outputs": [
    {
     "data": {
      "image/png": "[encoded data removed]",
      "text/plain": [
       "<Figure size 354.3x219 with 1 Axes>"
      ]
     },
     "metadata": {},
     "output_type": "display_data"
    }
   ],
   "source": [
    "import pandas as pd\n",
    "import seaborn as sns\n",
    "import matplotlib.pyplot as plt\n",
    "\n",
    "from matplotlib import font_manager\n",
    "font_dirs = ['/home/gonzag46/.fonts']\n",
    "font_files = font_manager.findSystemFonts(fontpaths=font_dirs)\n",
    "for font_file in font_files:\n",
    "    font_manager.fontManager.addfont(font_file)\n",
    "plt.rcParams['font.family'] = 'Arial'\n",
    "plt.rcParams['pdf.fonttype'] = 42  # Output Type 42 (TrueType), editable in Illustrator\n",
    "\n",
    "# Extract the data for 'rankings' into a DataFrame\n",
    "metric = 'percentage of samples with partially accurate predictions'\n",
    "data = []\n",
    "for cellline, metrics in performance.items():\n",
    "    if metric in metrics:\n",
    "        for method, values in metrics[metric].items():\n",
    "            for value in values:\n",
    "                data.append([cellline, method, value])\n",
    "\n",
    "# Create a DataFrame\n",
    "df = pd.DataFrame(data, columns=['Cell Line', 'Method', metric])\n",
    "\n",
    "# Ensure Method is treated as a numeric value\n",
    "df['Method'] = df['Method'].astype(float)\n",
    "\n",
    "# Calculate the mean 'rankings' for each cell line and method\n",
    "df_mean = df.groupby(['Cell Line', 'Method']).mean().reset_index()\n",
    "\n",
    "# # Define a color palette that matches the existing figures\n",
    "# palette = {\n",
    "#     0: 'grey',\n",
    "#     0.1: '#E2FAFA',\n",
    "#     0.2: '#B0F3F0',\n",
    "#     0.3: '#7DDCE0',\n",
    "#     0.4: '#4BC5CF',\n",
    "#     0.5: '#1AAEBE',\n",
    "#     0.6: '#1AAEBE',\n",
    "#     0.7: '#1AAEBE',\n",
    "#     0.8: '#1AAEBE',\n",
    "#     0.9: '#1AAEBE',\n",
    "#     1: '#1AAEBE'\n",
    "# }\n",
    "\n",
    "\n",
    "\n",
    "\n",
    "\n",
    "with sns.plotting_context(plotting_context):\n",
    "    # Initialize the plot with two subplots\n",
    "    fig, ax = plt.subplots(figsize=(3.543, 2.19), sharey=False)\n",
    "    sns.lineplot(ax=ax, data=df, x='Method', y=metric, color='#1AAEBE', marker='o', markersize=6)\n",
    "    sns.scatterplot(ax=ax, data=df, x='Method', y=metric, color='#1AAEBE', s=10, legend=False)\n",
    "    # ax1.set_xlabel('PPI confidence quantile cutoff')\n",
    "    ax.set_ylabel('Accurately predicted samples (%)')\n",
    "    # ax.set_ylim(0, 1.3)\n",
    "\n",
    "\n",
    "    ax.set_xlabel('Fraction of random edges removed')  # X-axis title for Genetic\n",
    "    # ax2.set_xlabel('')  # X-axis title for Genetic\n",
    "\n",
    "    # Adjust layout\n",
    "    plt.subplots_adjust(bottom=0.2, right=0.95, left=0.15)\n",
    "    sns.despine()\n",
    "    plt.savefig(osp.join(outdir, 'panel_partially_accurate_pred_lineplot.pdf'))\n",
    "    plt.show()\n"
   ]
  },
  {
   "cell_type": "markdown",
   "metadata": {},
   "source": [
    "## Panel nDCG"
   ]
  },
  {
   "cell_type": "code",
   "execution_count": 7,
   "metadata": {},
   "outputs": [
    {
     "data": {
      "image/png": "[encoded data removed]",
      "text/plain": [
       "<Figure size 354.3x219 with 1 Axes>"
      ]
     },
     "metadata": {},
     "output_type": "display_data"
    }
   ],
   "source": [
    "import pandas as pd\n",
    "import seaborn as sns\n",
    "import matplotlib.pyplot as plt\n",
    "\n",
    "# Extract the data for 'rankings' into a DataFrame\n",
    "metric = 'nDCG'\n",
    "data = []\n",
    "for cellline, metrics in performance.items():\n",
    "    if metric in metrics:\n",
    "        for method, values in metrics[metric].items():\n",
    "            for value in values:\n",
    "                data.append([cellline, method, value])\n",
    "\n",
    "# Create a DataFrame\n",
    "df = pd.DataFrame(data, columns=['Cell Line', 'Method', metric])\n",
    "\n",
    "# Ensure Method is treated as a numeric value\n",
    "df['Method'] = df['Method'].astype(float)\n",
    "\n",
    "# Calculate the mean 'rankings' for each cell line and method\n",
    "df_mean = df.groupby(['Cell Line', 'Method']).mean().reset_index()\n",
    "\n",
    "# # Define a color palette that matches the existing figures\n",
    "# palette = {\n",
    "#     0: 'grey',\n",
    "#     0.1: '#E2FAFA',\n",
    "#     0.2: '#B0F3F0',\n",
    "#     0.3: '#7DDCE0',\n",
    "#     0.4: '#4BC5CF',\n",
    "#     0.5: '#1AAEBE',\n",
    "#     0.6: '#1AAEBE',\n",
    "#     0.7: '#1AAEBE',\n",
    "#     0.8: '#1AAEBE',\n",
    "#     0.9: '#1AAEBE',\n",
    "#     1: '#1AAEBE'\n",
    "# }\n",
    "\n",
    "\n",
    "\n",
    "\n",
    "\n",
    "with sns.plotting_context(plotting_context):\n",
    "    # Initialize the plot with two subplots\n",
    "    fig, ax = plt.subplots(figsize=(3.543, 2.19), sharey=False)\n",
    "    sns.lineplot(ax=ax, data=df, x='Method', y=metric, color='#1AAEBE', marker='o', markersize=6)\n",
    "    sns.scatterplot(ax=ax, data=df, x='Method', y=metric, color='#1AAEBE', s=10, legend=False)\n",
    "    # ax1.set_xlabel('PPI confidence quantile cutoff')\n",
    "    ax.set_ylabel('nDCG')\n",
    "    # ax.set_ylim(0, 1.3)\n",
    "\n",
    "\n",
    "    ax.set_xlabel('Fraction of random edges removed')  # X-axis title for Genetic\n",
    "    # ax2.set_xlabel('')  # X-axis title for Genetic\n",
    "\n",
    "    # Adjust layout\n",
    "    plt.subplots_adjust(bottom=0.2, right=0.95, left=0.15)\n",
    "    sns.despine()\n",
    "    plt.savefig(osp.join(outdir, 'panel_ndcg_lineplot.pdf'))\n",
    "    plt.show()\n"
   ]
  },
  {
   "cell_type": "code",
   "execution_count": null,
   "metadata": {},
   "outputs": [],
   "source": []
  }
 ],
 "metadata": {
  "kernelspec": {
   "display_name": "Python 3",
   "language": "python",
   "name": "python3"
  },
  "language_info": {
   "codemirror_mode": {
    "name": "ipython",
    "version": 3
   },
   "file_extension": ".py",
   "mimetype": "text/x-python",
   "name": "python",
   "nbconvert_exporter": "python",
   "pygments_lexer": "ipython3",
   "version": "3.8.19"
  }
 },
 "nbformat": 4,
 "nbformat_minor": 2
}
