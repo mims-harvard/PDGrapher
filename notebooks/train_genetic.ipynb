{
 "cells": [
  {
   "cell_type": "markdown",
   "id": "4d2b79af",
   "metadata": {},
   "source": [
    "The script to train PDGrapher on processed genetic perturbation data"
   ]
  },
  {
   "cell_type": "code",
   "execution_count": null,
   "id": "96e6ec44",
   "metadata": {},
   "outputs": [],
   "source": [
    "import numpy as np\n",
    "import torch\n",
    "import os\n",
    "import os.path as osp\n",
    "torch.set_num_threads(20)\n",
    "from datetime import datetime\n",
    "from pdgrapher import Dataset, PDGrapher, Trainer\n",
    "import sys"
   ]
  },
  {
   "cell_type": "markdown",
   "id": "e606e55e",
   "metadata": {},
   "source": [
    "Define experiment parameters"
   ]
  },
  {
   "cell_type": "code",
   "execution_count": null,
   "id": "ea5b5bff",
   "metadata": {},
   "outputs": [],
   "source": [
    "cell_line = \"A549\"\n",
    "n_layers_nn = 1\n",
    "global use_forward_data\n",
    "use_forward_data = True\n",
    "if cell_line in ['ES2', 'BICR6', 'YAPC', 'AGS', 'U251MG', 'HT29', 'A375']:\n",
    "        use_forward_data = False\n",
    "\n",
    "use_backward_data = True\n",
    "use_supervision = True #whether to use supervision loss\n",
    "use_intervention_data = True #whether to use cycle loss\n",
    "current_date = datetime.now()\n",
    "os.makedirs('./results/genetic/', exist_ok=True)\n",
    "\n",
    "outdir = f'./results/genetic/{cell_line}'\n",
    "os.makedirs(outdir, exist_ok=True)"
   ]
  },
  {
   "cell_type": "markdown",
   "id": "fb51b298",
   "metadata": {},
   "source": [
    "Train PDGrapher and save checkpoints"
   ]
  },
  {
   "cell_type": "code",
   "execution_count": null,
   "id": "fe097010",
   "metadata": {},
   "outputs": [],
   "source": [
    "for n_layers_gnn in [1, 2, 3]:\n",
    "    outdir_i = osp.join(outdir, 'n_gnn_{}_n_nn_{}_usef_{}_useb_{}_usecycle_{}_usesup_{}_split_random___{}_{}_{}___{}_{}_{}'.format(\n",
    "        n_layers_gnn,\n",
    "        n_layers_nn,\n",
    "        use_forward_data,\n",
    "        use_backward_data,\n",
    "        use_intervention_data,\n",
    "        use_supervision,\n",
    "        current_date.year, \n",
    "        current_date.month, \n",
    "        current_date.day, \n",
    "        current_date.hour, \n",
    "        current_date.minute, \n",
    "        current_date.second))\n",
    "    os.makedirs(outdir_i, exist_ok = False)\n",
    "    dataset = Dataset(\n",
    "            forward_path=f\"../data/processed/torch_data/genetic/real_lognorm/data_forward_{cell_line}.pt\",\n",
    "            backward_path=f\"../data/processed/torch_data/genetic/real_lognorm/data_backward_{cell_line}.pt\",\n",
    "            splits_path=f\"../data/processed/splits/genetic/{cell_line}/random/5fold/splits.pt\"\n",
    "        )\n",
    "\n",
    "    edge_index = torch.load(f\"../data/processed/torch_data/genetic/real_lognorm/edge_index_{cell_line}.pt\")\n",
    "    model = PDGrapher(edge_index, model_kwargs={\"n_layers_nn\": 1, \"n_layers_gnn\": n_layers_gnn, \"num_vars\": dataset.get_num_vars(),\n",
    "                                                    },\n",
    "                                    response_kwargs={'train': True},\n",
    "                                    perturbation_kwargs={'train':True})\n",
    "\n",
    "    trainer = Trainer(\n",
    "            fabric_kwargs={\"accelerator\": \"cuda\"},\n",
    "            log=True, use_forward_data=use_forward_data, use_backward_data=use_backward_data, use_supervision=use_supervision,\n",
    "            use_intervention_data=use_intervention_data, supervision_multiplier=0.01,\n",
    "            log_train=True, log_test=True,\n",
    "            logging_dir = outdir_i\n",
    "        )\n",
    "\n",
    "    # Iterate over all of the folds and train on each one\n",
    "    model_performances = trainer.train_kfold(model, dataset, n_epochs = 50)\n",
    "\n",
    "    print(model_performances)\n",
    "    with open(osp.join(outdir_i, \"multifold.txt\"), \"w\") as f:\n",
    "        f.write(str(model_performances))"
   ]
  }
 ],
 "metadata": {
  "language_info": {
   "name": "python"
  }
 },
 "nbformat": 4,
 "nbformat_minor": 5
}
